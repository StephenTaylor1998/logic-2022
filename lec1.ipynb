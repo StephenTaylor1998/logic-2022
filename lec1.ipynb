{
 "cells": [
  {
   "cell_type": "markdown",
   "metadata": {},
   "source": [
    "# Lecture 1"
   ]
  },
  {
   "cell_type": "markdown",
   "metadata": {},
   "source": [
    "Lectures and codes based on https://www.logicthrupython.org/"
   ]
  },
  {
   "cell_type": "markdown",
   "metadata": {},
   "source": [
    "## Packages"
   ]
  },
  {
   "cell_type": "code",
   "execution_count": 34,
   "metadata": {},
   "outputs": [],
   "source": [
    "from propositions.syntax import *"
   ]
  },
  {
   "cell_type": "markdown",
   "metadata": {},
   "source": [
    "## Syntax"
   ]
  },
  {
   "cell_type": "markdown",
   "metadata": {},
   "source": [
    "<img src=\"./pic/formula-dfn1.png\" width=\"600\">\n",
    "<img src=\"./pic/formula-dfn2.png\" width=\"500\">"
   ]
  },
  {
   "cell_type": "markdown",
   "metadata": {},
   "source": [
    "## Formula"
   ]
  },
  {
   "cell_type": "markdown",
   "metadata": {},
   "source": [
    "### from string to formula"
   ]
  },
  {
   "cell_type": "code",
   "execution_count": 63,
   "metadata": {},
   "outputs": [],
   "source": [
    "f1 = Formula.parse(\"~T\")\n",
    "f2 = Formula.parse(\"~q2\")\n",
    "\n",
    "#ferr = Formula.parse(\"~a\")"
   ]
  },
  {
   "cell_type": "markdown",
   "metadata": {},
   "source": [
    "### formula to string"
   ]
  },
  {
   "cell_type": "code",
   "execution_count": 64,
   "metadata": {},
   "outputs": [
    {
     "name": "stdout",
     "output_type": "stream",
     "text": [
      "~T , ~q2\n"
     ]
    }
   ],
   "source": [
    "print(f1, \",\", f2)"
   ]
  },
  {
   "cell_type": "markdown",
   "metadata": {},
   "source": [
    "### from formula to formula"
   ]
  },
  {
   "cell_type": "code",
   "execution_count": 51,
   "metadata": {},
   "outputs": [
    {
     "name": "stdout",
     "output_type": "stream",
     "text": [
      "(~p&~q2)\n",
      "~(~p&~q2)\n"
     ]
    }
   ],
   "source": [
    "f3 = Formula('&', f1, f2)\n",
    "print(f3)\n",
    "\n",
    "f3_neg = Formula('~', f3)\n",
    "print(f3_neg)"
   ]
  },
  {
   "cell_type": "markdown",
   "metadata": {},
   "source": [
    "### variables and operators"
   ]
  },
  {
   "cell_type": "code",
   "execution_count": 54,
   "metadata": {},
   "outputs": [
    {
     "name": "stdout",
     "output_type": "stream",
     "text": [
      "((~p&~q2)|(p3->p4))\n",
      "{'q2', 'p4', 'p', 'p3'}\n",
      "{'->', '~', '|', '&'}\n"
     ]
    }
   ],
   "source": [
    "f4 = Formula.parse(\"(p3->p4)\")\n",
    "f5 = Formula('|', f3, f4)\n",
    "\n",
    "print(f5)\n",
    "print(f5.variables())\n",
    "print(f5.operators())"
   ]
  },
  {
   "cell_type": "markdown",
   "metadata": {},
   "source": [
    "### tree structure"
   ]
  },
  {
   "cell_type": "code",
   "execution_count": 60,
   "metadata": {},
   "outputs": [
    {
     "name": "stdout",
     "output_type": "stream",
     "text": [
      "~p\n",
      "p\n"
     ]
    }
   ],
   "source": [
    "# print(f5)\n",
    "# print(f5.root)\n",
    "# print(f5.first)\n",
    "# print(f5.second)\n",
    "\n",
    "print(f1)\n",
    "print(f1.first)"
   ]
  },
  {
   "cell_type": "markdown",
   "metadata": {},
   "source": [
    "## Substitution: to be completed!"
   ]
  }
 ],
 "metadata": {
  "kernelspec": {
   "display_name": "Python 3.10.7 64-bit (microsoft store)",
   "language": "python",
   "name": "python3"
  },
  "language_info": {
   "codemirror_mode": {
    "name": "ipython",
    "version": 3
   },
   "file_extension": ".py",
   "mimetype": "text/x-python",
   "name": "python",
   "nbconvert_exporter": "python",
   "pygments_lexer": "ipython3",
   "version": "3.10.7"
  },
  "orig_nbformat": 4,
  "vscode": {
   "interpreter": {
    "hash": "a19eeb449e6182778322125266d80b2a37c8a8a3a8ef9255e46704164c566f66"
   }
  }
 },
 "nbformat": 4,
 "nbformat_minor": 2
}
